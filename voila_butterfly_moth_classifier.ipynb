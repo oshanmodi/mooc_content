{
 "cells": [
  {
   "cell_type": "markdown",
   "id": "7d875ca4",
   "metadata": {},
   "source": [
    "## Butterfly-Moth Identifier\n",
    "\n",
    "A prototype application built using `Jupyter notebook` and `ipywidgets` to identify whether the selected image is a **Butterfly** or a **Moth**.\n",
    "\n",
    "*Please note that the classifier can only identify one of the two classes, so it doesn't do a good job at identifying anything that's not one of the two (ie. neither butterfly nor moth).*"
   ]
  },
  {
   "cell_type": "code",
   "execution_count": 1,
   "id": "d6db2338",
   "metadata": {
    "ExecuteTime": {
     "end_time": "2022-04-04T18:47:12.986149Z",
     "start_time": "2022-04-04T18:47:12.981609Z"
    }
   },
   "outputs": [],
   "source": [
    "# !pip install voila\n",
    "# !jupyter serverextension enable --sys-prefix voila "
   ]
  },
  {
   "cell_type": "code",
   "execution_count": 2,
   "id": "db35f688",
   "metadata": {
    "ExecuteTime": {
     "end_time": "2022-04-04T18:47:18.274022Z",
     "start_time": "2022-04-04T18:47:13.335192Z"
    },
    "execution": {
     "iopub.execute_input": "2022-04-03T13:20:48.707058Z",
     "iopub.status.busy": "2022-04-03T13:20:48.706675Z",
     "iopub.status.idle": "2022-04-03T13:20:48.713076Z",
     "shell.execute_reply": "2022-04-03T13:20:48.711856Z",
     "shell.execute_reply.started": "2022-04-03T13:20:48.707019Z"
    }
   },
   "outputs": [],
   "source": [
    "from fastai.vision.all import *\n",
    "from fastai.vision.widgets import *"
   ]
  },
  {
   "cell_type": "code",
   "execution_count": 3,
   "id": "5e50c11d",
   "metadata": {
    "ExecuteTime": {
     "end_time": "2022-04-04T18:47:18.856288Z",
     "start_time": "2022-04-04T18:47:18.278223Z"
    }
   },
   "outputs": [],
   "source": [
    "path = Path()\n",
    "learn_inf = load_learner(path/'pytorch_learner_butterfly_moth.pkl', cpu = True)"
   ]
  },
  {
   "cell_type": "code",
   "execution_count": 4,
   "id": "56ceb3cc",
   "metadata": {
    "ExecuteTime": {
     "end_time": "2022-04-04T18:47:18.969910Z",
     "start_time": "2022-04-04T18:47:18.873916Z"
    }
   },
   "outputs": [],
   "source": [
    "btn_upload = widgets.FileUpload(multiple = False, accept = '.jpg')\n",
    "out_pl = widgets.Output()\n",
    "lbl_pred = widgets.Label()\n",
    "btn_run = widgets.Button(description='Classify')"
   ]
  },
  {
   "cell_type": "code",
   "execution_count": 5,
   "id": "f79621ad",
   "metadata": {
    "ExecuteTime": {
     "end_time": "2022-04-04T18:47:19.650868Z",
     "start_time": "2022-04-04T18:47:19.637665Z"
    }
   },
   "outputs": [],
   "source": [
    "def on_click_classify(change):\n",
    "    lbl_pred.value = ''\n",
    "    img = PILImage.create(btn_upload.data[-1])\n",
    "    out_pl.clear_output()\n",
    "    with out_pl: display(img.to_thumb(256,256))\n",
    "    pred,pred_idx,probs = learn_inf.predict(img)\n",
    "    lbl_pred.value = f'Prediction: {pred}; Probability: {probs[pred_idx]:.04f}'\n",
    "\n",
    "btn_run.on_click(on_click_classify)"
   ]
  },
  {
   "cell_type": "code",
   "execution_count": 7,
   "id": "cab60b43",
   "metadata": {
    "ExecuteTime": {
     "end_time": "2022-04-04T18:47:33.140523Z",
     "start_time": "2022-04-04T18:47:33.104992Z"
    },
    "scrolled": false
   },
   "outputs": [
    {
     "data": {
      "application/vnd.jupyter.widget-view+json": {
       "model_id": "55baefda57c8437f8e73e8a2835a2069",
       "version_major": 2,
       "version_minor": 0
      },
      "text/plain": [
       "VBox(children=(Label(value='Select an image (*.jpg)'), FileUpload(value={}, accept='.jpg', description='Upload…"
      ]
     },
     "metadata": {},
     "output_type": "display_data"
    }
   ],
   "source": [
    "display(VBox([widgets.Label('Select an image (*.jpg)'),\n",
    "      btn_upload, btn_run, out_pl, lbl_pred]))"
   ]
  }
 ],
 "metadata": {
  "kernelspec": {
   "display_name": "Python 3 (ipykernel)",
   "language": "python",
   "name": "python3"
  },
  "language_info": {
   "codemirror_mode": {
    "name": "ipython",
    "version": 3
   },
   "file_extension": ".py",
   "mimetype": "text/x-python",
   "name": "python",
   "nbconvert_exporter": "python",
   "pygments_lexer": "ipython3",
   "version": "3.8.5"
  },
  "toc": {
   "base_numbering": 1,
   "nav_menu": {},
   "number_sections": true,
   "sideBar": true,
   "skip_h1_title": false,
   "title_cell": "Table of Contents",
   "title_sidebar": "Contents",
   "toc_cell": false,
   "toc_position": {},
   "toc_section_display": true,
   "toc_window_display": false
  },
  "varInspector": {
   "cols": {
    "lenName": 16,
    "lenType": 16,
    "lenVar": 40
   },
   "kernels_config": {
    "python": {
     "delete_cmd_postfix": "",
     "delete_cmd_prefix": "del ",
     "library": "var_list.py",
     "varRefreshCmd": "print(var_dic_list())"
    },
    "r": {
     "delete_cmd_postfix": ") ",
     "delete_cmd_prefix": "rm(",
     "library": "var_list.r",
     "varRefreshCmd": "cat(var_dic_list()) "
    }
   },
   "types_to_exclude": [
    "module",
    "function",
    "builtin_function_or_method",
    "instance",
    "_Feature"
   ],
   "window_display": false
  }
 },
 "nbformat": 4,
 "nbformat_minor": 5
}
