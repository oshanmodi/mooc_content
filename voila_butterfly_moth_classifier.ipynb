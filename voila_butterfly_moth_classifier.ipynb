{
 "cells": [
  {
   "cell_type": "markdown",
   "id": "fdae1c6f",
   "metadata": {},
   "source": [
    "## Butterfly-Moth Identifier\n",
    "\n",
    "A prototype application built using `Jupyter notebook` and `ipywidgets` to identify whether the selected image is a **Butterfly** or a **Moth**.\n",
    "\n",
    "*Please note that the classifier and only identify one of the two classes, so it doesn't do a good job at identifying anything that's not one of the two (ie. neither butterfly nor moth).*"
   ]
  },
  {
   "cell_type": "code",
   "execution_count": 1,
   "id": "ab38cbb3",
   "metadata": {
    "ExecuteTime": {
     "end_time": "2022-04-04T16:28:59.128577Z",
     "start_time": "2022-04-04T16:28:59.121184Z"
    }
   },
   "outputs": [],
   "source": [
    "# !pip install voila\n",
    "# !jupyter serverextension enable --sys-prefix voila "
   ]
  },
  {
   "cell_type": "code",
   "execution_count": 27,
   "id": "221aa001",
   "metadata": {
    "ExecuteTime": {
     "end_time": "2022-04-04T16:44:15.336594Z",
     "start_time": "2022-04-04T16:44:15.330474Z"
    },
    "execution": {
     "iopub.execute_input": "2022-04-03T13:20:48.707058Z",
     "iopub.status.busy": "2022-04-03T13:20:48.706675Z",
     "iopub.status.idle": "2022-04-03T13:20:48.713076Z",
     "shell.execute_reply": "2022-04-03T13:20:48.711856Z",
     "shell.execute_reply.started": "2022-04-03T13:20:48.707019Z"
    }
   },
   "outputs": [],
   "source": [
    "from fastai.vision.all import *\n",
    "from fastai.vision.widgets import *"
   ]
  },
  {
   "cell_type": "code",
   "execution_count": 28,
   "id": "8f94639d",
   "metadata": {
    "ExecuteTime": {
     "end_time": "2022-04-04T16:44:15.832140Z",
     "start_time": "2022-04-04T16:44:15.591020Z"
    }
   },
   "outputs": [],
   "source": [
    "path = Path()\n",
    "learn_inf = load_learner(path/'pytorch_learner_butterfly_moth.pkl', cpu = True)"
   ]
  },
  {
   "cell_type": "code",
   "execution_count": 29,
   "id": "0bbcf349",
   "metadata": {
    "ExecuteTime": {
     "end_time": "2022-04-04T16:44:16.010717Z",
     "start_time": "2022-04-04T16:44:15.951061Z"
    }
   },
   "outputs": [],
   "source": [
    "btn_upload = widgets.FileUpload(multiple = False, accept = '.jpg')\n",
    "out_pl = widgets.Output()\n",
    "lbl_pred = widgets.Label()\n",
    "btn_run = widgets.Button(description='Classify')"
   ]
  },
  {
   "cell_type": "code",
   "execution_count": 30,
   "id": "de81bfa3",
   "metadata": {
    "ExecuteTime": {
     "end_time": "2022-04-04T16:44:16.152656Z",
     "start_time": "2022-04-04T16:44:16.142406Z"
    }
   },
   "outputs": [],
   "source": [
    "def on_click_classify(change):\n",
    "    lbl_pred.value = ''\n",
    "    img = PILImage.create(btn_upload.data[-1])\n",
    "    out_pl.clear_output()\n",
    "    with out_pl: display(img.to_thumb(256,256))\n",
    "    pred,pred_idx,probs = learn_inf.predict(img)\n",
    "    lbl_pred.value = f'Prediction: {pred}; Probability: {probs[pred_idx]:.04f}'\n",
    "\n",
    "btn_run.on_click(on_click_classify)"
   ]
  },
  {
   "cell_type": "code",
   "execution_count": 39,
   "id": "bc0c309c",
   "metadata": {
    "ExecuteTime": {
     "end_time": "2022-04-04T16:46:03.838078Z",
     "start_time": "2022-04-04T16:46:03.797192Z"
    },
    "scrolled": false
   },
   "outputs": [
    {
     "data": {
      "application/vnd.jupyter.widget-view+json": {
       "model_id": "5a3c91635a1940cba9b5b089d6065566",
       "version_major": 2,
       "version_minor": 0
      },
      "text/plain": [
       "VBox(children=(Label(value='Select an image (*.jpg)'), FileUpload(value={}, accept='.jpg', description='Upload…"
      ]
     },
     "metadata": {},
     "output_type": "display_data"
    },
    {
     "data": {
      "text/html": [],
      "text/plain": [
       "<IPython.core.display.HTML object>"
      ]
     },
     "metadata": {},
     "output_type": "display_data"
    }
   ],
   "source": [
    "display(VBox([widgets.Label('Select an image (*.jpg)'),\n",
    "      btn_upload, btn_run, out_pl, lbl_pred]))"
   ]
  }
 ],
 "metadata": {
  "kernelspec": {
   "display_name": "Python 3 (ipykernel)",
   "language": "python",
   "name": "python3"
  },
  "language_info": {
   "codemirror_mode": {
    "name": "ipython",
    "version": 3
   },
   "file_extension": ".py",
   "mimetype": "text/x-python",
   "name": "python",
   "nbconvert_exporter": "python",
   "pygments_lexer": "ipython3",
   "version": "3.8.5"
  },
  "toc": {
   "base_numbering": 1,
   "nav_menu": {},
   "number_sections": true,
   "sideBar": true,
   "skip_h1_title": false,
   "title_cell": "Table of Contents",
   "title_sidebar": "Contents",
   "toc_cell": false,
   "toc_position": {},
   "toc_section_display": true,
   "toc_window_display": false
  },
  "varInspector": {
   "cols": {
    "lenName": 16,
    "lenType": 16,
    "lenVar": 40
   },
   "kernels_config": {
    "python": {
     "delete_cmd_postfix": "",
     "delete_cmd_prefix": "del ",
     "library": "var_list.py",
     "varRefreshCmd": "print(var_dic_list())"
    },
    "r": {
     "delete_cmd_postfix": ") ",
     "delete_cmd_prefix": "rm(",
     "library": "var_list.r",
     "varRefreshCmd": "cat(var_dic_list()) "
    }
   },
   "types_to_exclude": [
    "module",
    "function",
    "builtin_function_or_method",
    "instance",
    "_Feature"
   ],
   "window_display": false
  }
 },
 "nbformat": 4,
 "nbformat_minor": 5
}
