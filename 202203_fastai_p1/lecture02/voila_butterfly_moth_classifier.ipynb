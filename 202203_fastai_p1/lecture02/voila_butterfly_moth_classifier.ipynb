{
 "cells": [
  {
   "cell_type": "code",
   "execution_count": 1,
   "id": "e799e417",
   "metadata": {
    "ExecuteTime": {
     "end_time": "2022-04-04T16:28:59.128577Z",
     "start_time": "2022-04-04T16:28:59.121184Z"
    }
   },
   "outputs": [],
   "source": [
    "# !pip install voila\n",
    "# !jupyter serverextension enable --sys-prefix voila "
   ]
  },
  {
   "cell_type": "code",
   "execution_count": 2,
   "id": "47d74d06",
   "metadata": {
    "ExecuteTime": {
     "end_time": "2022-04-04T16:29:02.756309Z",
     "start_time": "2022-04-04T16:28:59.134056Z"
    },
    "execution": {
     "iopub.execute_input": "2022-04-03T13:20:48.707058Z",
     "iopub.status.busy": "2022-04-03T13:20:48.706675Z",
     "iopub.status.idle": "2022-04-03T13:20:48.713076Z",
     "shell.execute_reply": "2022-04-03T13:20:48.711856Z",
     "shell.execute_reply.started": "2022-04-03T13:20:48.707019Z"
    }
   },
   "outputs": [],
   "source": [
    "from fastai.vision.all import *\n",
    "from fastai.vision.widgets import *"
   ]
  },
  {
   "cell_type": "code",
   "execution_count": 3,
   "id": "987bf2bb",
   "metadata": {
    "ExecuteTime": {
     "end_time": "2022-04-04T16:29:03.011056Z",
     "start_time": "2022-04-04T16:29:02.759377Z"
    }
   },
   "outputs": [],
   "source": [
    "path = Path()\n",
    "learn_inf = load_learner(path/'pytorch_learner_butterfly_moth.pkl', cpu = True)"
   ]
  },
  {
   "cell_type": "code",
   "execution_count": 4,
   "id": "bc2d6296",
   "metadata": {
    "ExecuteTime": {
     "end_time": "2022-04-04T16:29:03.086379Z",
     "start_time": "2022-04-04T16:29:03.015918Z"
    }
   },
   "outputs": [],
   "source": [
    "btn_upload = widgets.FileUpload()\n",
    "out_pl = widgets.Output()\n",
    "lbl_pred = widgets.Label()\n",
    "btn_run = widgets.Button(description='Classify')"
   ]
  },
  {
   "cell_type": "code",
   "execution_count": 5,
   "id": "b56e6b86",
   "metadata": {
    "ExecuteTime": {
     "end_time": "2022-04-04T16:29:03.113107Z",
     "start_time": "2022-04-04T16:29:03.107308Z"
    }
   },
   "outputs": [],
   "source": [
    "def on_click_classify(change):\n",
    "    lbl_pred.value = ''\n",
    "    img = PILImage.create(btn_upload.data[-1])\n",
    "    out_pl.clear_output()\n",
    "    with out_pl: display(img.to_thumb(128,128))\n",
    "    pred,pred_idx,probs = learn_inf.predict(img)\n",
    "    lbl_pred.value = f'Prediction: {pred}; Probability: {probs[pred_idx]:.04f}'\n",
    "\n",
    "btn_run.on_click(on_click_classify)"
   ]
  },
  {
   "cell_type": "code",
   "execution_count": 6,
   "id": "70cf987e",
   "metadata": {
    "ExecuteTime": {
     "end_time": "2022-04-04T16:29:03.174946Z",
     "start_time": "2022-04-04T16:29:03.119620Z"
    },
    "scrolled": false
   },
   "outputs": [
    {
     "data": {
      "application/vnd.jupyter.widget-view+json": {
       "model_id": "7396ce25b44947558a174b566d447171",
       "version_major": 2,
       "version_minor": 0
      },
      "text/plain": [
       "VBox(children=(Label(value='Select image!'), FileUpload(value={}, description='Upload'), Button(description='C…"
      ]
     },
     "metadata": {},
     "output_type": "display_data"
    },
    {
     "data": {
      "text/html": [],
      "text/plain": [
       "<IPython.core.display.HTML object>"
      ]
     },
     "metadata": {},
     "output_type": "display_data"
    }
   ],
   "source": [
    "btn_upload = widgets.FileUpload()\n",
    "display(VBox([widgets.Label('Select image!'), \n",
    "      btn_upload, btn_run, out_pl, lbl_pred]))"
   ]
  }
 ],
 "metadata": {
  "kernelspec": {
   "display_name": "Python 3 (ipykernel)",
   "language": "python",
   "name": "python3"
  },
  "language_info": {
   "codemirror_mode": {
    "name": "ipython",
    "version": 3
   },
   "file_extension": ".py",
   "mimetype": "text/x-python",
   "name": "python",
   "nbconvert_exporter": "python",
   "pygments_lexer": "ipython3",
   "version": "3.8.5"
  },
  "toc": {
   "base_numbering": 1,
   "nav_menu": {},
   "number_sections": true,
   "sideBar": true,
   "skip_h1_title": false,
   "title_cell": "Table of Contents",
   "title_sidebar": "Contents",
   "toc_cell": false,
   "toc_position": {},
   "toc_section_display": true,
   "toc_window_display": false
  },
  "varInspector": {
   "cols": {
    "lenName": 16,
    "lenType": 16,
    "lenVar": 40
   },
   "kernels_config": {
    "python": {
     "delete_cmd_postfix": "",
     "delete_cmd_prefix": "del ",
     "library": "var_list.py",
     "varRefreshCmd": "print(var_dic_list())"
    },
    "r": {
     "delete_cmd_postfix": ") ",
     "delete_cmd_prefix": "rm(",
     "library": "var_list.r",
     "varRefreshCmd": "cat(var_dic_list()) "
    }
   },
   "types_to_exclude": [
    "module",
    "function",
    "builtin_function_or_method",
    "instance",
    "_Feature"
   ],
   "window_display": false
  }
 },
 "nbformat": 4,
 "nbformat_minor": 5
}
