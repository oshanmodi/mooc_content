{
 "cells": [
  {
   "cell_type": "code",
   "execution_count": null,
   "id": "259dd1a7",
   "metadata": {
    "ExecuteTime": {
     "end_time": "2022-04-04T08:12:51.112173Z",
     "start_time": "2022-04-04T08:12:51.107304Z"
    }
   },
   "outputs": [],
   "source": [
    "# !pip install voila\n",
    "# !jupyter serverextension enable --sys-prefix voila "
   ]
  },
  {
   "cell_type": "code",
   "execution_count": 1,
   "id": "80f79e81",
   "metadata": {
    "ExecuteTime": {
     "end_time": "2022-04-04T09:01:19.615782Z",
     "start_time": "2022-04-04T09:01:16.507565Z"
    },
    "execution": {
     "iopub.execute_input": "2022-04-03T13:20:48.707058Z",
     "iopub.status.busy": "2022-04-03T13:20:48.706675Z",
     "iopub.status.idle": "2022-04-03T13:20:48.713076Z",
     "shell.execute_reply": "2022-04-03T13:20:48.711856Z",
     "shell.execute_reply.started": "2022-04-03T13:20:48.707019Z"
    }
   },
   "outputs": [],
   "source": [
    "from fastai.vision.all import *\n",
    "from fastai.vision.widgets import *"
   ]
  },
  {
   "cell_type": "code",
   "execution_count": 6,
   "id": "3d03c0ec",
   "metadata": {
    "ExecuteTime": {
     "end_time": "2022-04-04T09:03:50.131241Z",
     "start_time": "2022-04-04T09:03:49.857665Z"
    }
   },
   "outputs": [],
   "source": [
    "path = Path()\n",
    "learn_inf = load_learner(path/'pytorch_learner_butterfly_moth.pkl')"
   ]
  },
  {
   "cell_type": "code",
   "execution_count": 7,
   "id": "b5f2a4db",
   "metadata": {
    "ExecuteTime": {
     "end_time": "2022-04-04T09:03:55.104221Z",
     "start_time": "2022-04-04T09:03:54.989177Z"
    }
   },
   "outputs": [],
   "source": [
    "btn_upload = widgets.FileUpload(multiple = False, accept = '.jpg|.png')\n",
    "out_pl = widgets.Output()\n",
    "lbl_pred = widgets.Label()\n",
    "btn_run = widgets.Button(description='Classify')"
   ]
  },
  {
   "cell_type": "code",
   "execution_count": 8,
   "id": "e0644d0e",
   "metadata": {
    "ExecuteTime": {
     "end_time": "2022-04-04T09:03:55.364451Z",
     "start_time": "2022-04-04T09:03:55.358244Z"
    }
   },
   "outputs": [],
   "source": [
    "def on_click_classify(change):\n",
    "    lbl_pred.value = ''\n",
    "    img = PILImage.create(btn_upload.data[-1])\n",
    "    out_pl.clear_output()\n",
    "    with out_pl: display(img.to_thumb(128,128))\n",
    "    pred,pred_idx,probs = learn_inf.predict(img)\n",
    "    lbl_pred.value = f'Prediction: {pred}; Probability: {probs[pred_idx]:.04f}'\n",
    "\n",
    "btn_run.on_click(on_click_classify)"
   ]
  },
  {
   "cell_type": "code",
   "execution_count": 10,
   "id": "7b15bf29",
   "metadata": {
    "ExecuteTime": {
     "end_time": "2022-04-04T09:05:32.337490Z",
     "start_time": "2022-04-04T09:05:32.288201Z"
    },
    "scrolled": false
   },
   "outputs": [
    {
     "data": {
      "application/vnd.jupyter.widget-view+json": {
       "model_id": "416a993d22d44ee59a1d6a4434d4e22d",
       "version_major": 2,
       "version_minor": 0
      },
      "text/plain": [
       "VBox(children=(Label(value='Select image!'), FileUpload(value={}, description='Upload'), Button(description='C…"
      ]
     },
     "metadata": {},
     "output_type": "display_data"
    }
   ],
   "source": [
    "btn_upload = widgets.FileUpload()\n",
    "display(VBox([widgets.Label('Select image!'), \n",
    "      btn_upload, btn_run, out_pl, lbl_pred]))"
   ]
  },
  {
   "cell_type": "code",
   "execution_count": null,
   "id": "14d7ef4e",
   "metadata": {},
   "outputs": [],
   "source": []
  }
 ],
 "metadata": {
  "kernelspec": {
   "display_name": "Python 3 (ipykernel)",
   "language": "python",
   "name": "python3"
  },
  "language_info": {
   "codemirror_mode": {
    "name": "ipython",
    "version": 3
   },
   "file_extension": ".py",
   "mimetype": "text/x-python",
   "name": "python",
   "nbconvert_exporter": "python",
   "pygments_lexer": "ipython3",
   "version": "3.8.5"
  },
  "toc": {
   "base_numbering": 1,
   "nav_menu": {},
   "number_sections": true,
   "sideBar": true,
   "skip_h1_title": false,
   "title_cell": "Table of Contents",
   "title_sidebar": "Contents",
   "toc_cell": false,
   "toc_position": {},
   "toc_section_display": true,
   "toc_window_display": false
  },
  "varInspector": {
   "cols": {
    "lenName": 16,
    "lenType": 16,
    "lenVar": 40
   },
   "kernels_config": {
    "python": {
     "delete_cmd_postfix": "",
     "delete_cmd_prefix": "del ",
     "library": "var_list.py",
     "varRefreshCmd": "print(var_dic_list())"
    },
    "r": {
     "delete_cmd_postfix": ") ",
     "delete_cmd_prefix": "rm(",
     "library": "var_list.r",
     "varRefreshCmd": "cat(var_dic_list()) "
    }
   },
   "types_to_exclude": [
    "module",
    "function",
    "builtin_function_or_method",
    "instance",
    "_Feature"
   ],
   "window_display": false
  }
 },
 "nbformat": 4,
 "nbformat_minor": 5
}
